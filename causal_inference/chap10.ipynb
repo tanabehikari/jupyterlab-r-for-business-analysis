{
 "cells": [
  {
   "cell_type": "markdown",
   "id": "de977b9a-e508-41e2-8f75-53db488396be",
   "metadata": {},
   "source": [
    "# 傾向スコアのモデル化"
   ]
  },
  {
   "cell_type": "code",
   "execution_count": 5,
   "id": "62ba11a8-924b-4b45-a6a1-b5f3d0e5b290",
   "metadata": {},
   "outputs": [
    {
     "name": "stderr",
     "output_type": "stream",
     "text": [
      "Installing package into ‘/usr/local/lib/R/site-library’\n",
      "(as ‘lib’ is unspecified)\n",
      "\n",
      "Warning message:\n",
      "“dependencies ‘randomForest’, ‘gurobi’ are not available”\n",
      "also installing the dependencies ‘iterators’, ‘rlemon’, ‘foreach’, ‘shape’, ‘zoo’, ‘slam’, ‘RcppProgress’, ‘optmatch’, ‘Matching’, ‘rgenoud’, ‘CBPS’, ‘dbarts’, ‘glmnet’, ‘gbm’, ‘cobalt’, ‘lmtest’, ‘sandwich’, ‘Rglpk’, ‘Rsymphony’\n",
      "\n",
      "\n",
      "Warning message in install.packages(\"MatchIt\", dependencies = T):\n",
      "“installation of package ‘Rsymphony’ had non-zero exit status”\n",
      "Warning message in install.packages(\"MatchIt\", dependencies = T):\n",
      "“installation of package ‘Rglpk’ had non-zero exit status”\n",
      "Warning message in install.packages(\"MatchIt\", dependencies = T):\n",
      "“installation of package ‘glmnet’ had non-zero exit status”\n",
      "Warning message in install.packages(\"MatchIt\", dependencies = T):\n",
      "“installation of package ‘CBPS’ had non-zero exit status”\n"
     ]
    }
   ],
   "source": [
    "# MatchIt関数を使うのでライブラリをインストール\n",
    "install.packages(\"MatchIt\",dependencies=T)"
   ]
  },
  {
   "cell_type": "code",
   "execution_count": 1,
   "id": "793c0f05-9957-4d56-85c2-7652fd9574f9",
   "metadata": {},
   "outputs": [],
   "source": [
    "rm(list = ls()) #ワークスメモリをクリア\n",
    "data03 <- read.csv('./exc_data//data03.csv') # csv読み込み"
   ]
  },
  {
   "cell_type": "code",
   "execution_count": 2,
   "id": "2e6e9311-e4a7-412d-a7c2-7aec8370fb11",
   "metadata": {},
   "outputs": [
    {
     "data": {
      "text/plain": [
       "       x1              y3              t1           y0t             y1t       \n",
       " Min.   :70.00   Min.   :63.00   Min.   :0.0   Min.   :62.00   Min.   :71.00  \n",
       " 1st Qu.:73.75   1st Qu.:73.75   1st Qu.:0.0   1st Qu.:66.50   1st Qu.:75.50  \n",
       " Median :80.00   Median :77.00   Median :0.5   Median :71.00   Median :81.50  \n",
       " Mean   :80.00   Mean   :77.25   Mean   :0.5   Mean   :72.20   Mean   :82.00  \n",
       " 3rd Qu.:86.25   3rd Qu.:82.00   3rd Qu.:1.0   3rd Qu.:78.75   3rd Qu.:88.75  \n",
       " Max.   :90.00   Max.   :91.00   Max.   :1.0   Max.   :82.00   Max.   :92.00  "
      ]
     },
     "metadata": {},
     "output_type": "display_data"
    }
   ],
   "source": [
    "attach(data03) # attachでデータフレーム化  pandas.df的になる\n",
    "summary(data03)"
   ]
  },
  {
   "cell_type": "markdown",
   "id": "7581331c-5fd1-4bc2-9c8d-c852e884b363",
   "metadata": {},
   "source": [
    "### MatchIt関数でさくっと傾向スコアをモデル化"
   ]
  },
  {
   "cell_type": "code",
   "execution_count": 14,
   "id": "34a3a2d5-2790-4897-b1a3-a119af20b60e",
   "metadata": {},
   "outputs": [],
   "source": [
    "library(MatchIt)\n",
    "m.out <- matchit(t1 ~ x1, data = data03)\n",
    "ps5 <- m.out$model$fitted.values"
   ]
  },
  {
   "cell_type": "markdown",
   "id": "cb1a0495-1d17-4197-bf66-1d5a6a90779b",
   "metadata": {},
   "source": [
    "## ロジスティック回帰式\n",
    " $$\n",
    "     Pr(T_i =1 | X_i) = \\frac{\\exp(\\beta_0+\\beta_1X_i)}{1+\\exp(\\beta_0+\\beta_1X_i)}\n",
    " $$"
   ]
  },
  {
   "cell_type": "code",
   "execution_count": 17,
   "id": "997b3aae-bad2-41df-8574-8df8ca9213a7",
   "metadata": {},
   "outputs": [
    {
     "data": {
      "text/html": [
       "<style>\n",
       ".list-inline {list-style: none; margin:0; padding: 0}\n",
       ".list-inline>li {display: inline-block}\n",
       ".list-inline>li:not(:last-child)::after {content: \"\\00b7\"; padding: 0 .5ex}\n",
       "</style>\n",
       "<ol class=list-inline><li>0.00247262315663477</li><li>0.00247262315663477</li><li>0.00247262315663477</li><li>0.00247262315663477</li><li>0.00247262315663477</li><li>0.00150118225673699</li><li>0.00150118225673699</li><li>0.00150118225673699</li><li>0.00150118225673699</li><li>0.00150118225673699</li><li>0.0005527786369236</li><li>0.0005527786369236</li><li>0.0005527786369236</li><li>0.0005527786369236</li><li>0.0005527786369236</li><li>0.000335350130466478</li><li>0.000335350130466478</li><li>0.000335350130466478</li><li>0.000335350130466478</li><li>0.000335350130466478</li></ol>\n"
      ],
      "text/latex": [
       "\\begin{enumerate*}\n",
       "\\item 0.00247262315663477\n",
       "\\item 0.00247262315663477\n",
       "\\item 0.00247262315663477\n",
       "\\item 0.00247262315663477\n",
       "\\item 0.00247262315663477\n",
       "\\item 0.00150118225673699\n",
       "\\item 0.00150118225673699\n",
       "\\item 0.00150118225673699\n",
       "\\item 0.00150118225673699\n",
       "\\item 0.00150118225673699\n",
       "\\item 0.0005527786369236\n",
       "\\item 0.0005527786369236\n",
       "\\item 0.0005527786369236\n",
       "\\item 0.0005527786369236\n",
       "\\item 0.0005527786369236\n",
       "\\item 0.000335350130466478\n",
       "\\item 0.000335350130466478\n",
       "\\item 0.000335350130466478\n",
       "\\item 0.000335350130466478\n",
       "\\item 0.000335350130466478\n",
       "\\end{enumerate*}\n"
      ],
      "text/markdown": [
       "1. 0.00247262315663477\n",
       "2. 0.00247262315663477\n",
       "3. 0.00247262315663477\n",
       "4. 0.00247262315663477\n",
       "5. 0.00247262315663477\n",
       "6. 0.00150118225673699\n",
       "7. 0.00150118225673699\n",
       "8. 0.00150118225673699\n",
       "9. 0.00150118225673699\n",
       "10. 0.00150118225673699\n",
       "11. 0.0005527786369236\n",
       "12. 0.0005527786369236\n",
       "13. 0.0005527786369236\n",
       "14. 0.0005527786369236\n",
       "15. 0.0005527786369236\n",
       "16. 0.000335350130466478\n",
       "17. 0.000335350130466478\n",
       "18. 0.000335350130466478\n",
       "19. 0.000335350130466478\n",
       "20. 0.000335350130466478\n",
       "\n",
       "\n"
      ],
      "text/plain": [
       " [1] 0.0024726232 0.0024726232 0.0024726232 0.0024726232 0.0024726232\n",
       " [6] 0.0015011823 0.0015011823 0.0015011823 0.0015011823 0.0015011823\n",
       "[11] 0.0005527786 0.0005527786 0.0005527786 0.0005527786 0.0005527786\n",
       "[16] 0.0003353501 0.0003353501 0.0003353501 0.0003353501 0.0003353501"
      ]
     },
     "metadata": {},
     "output_type": "display_data"
    }
   ],
   "source": [
    "# 回帰式を手打ちでやるver\n",
    "b0 <- 1; b1 <- -0.1\n",
    "num <- exp(b0 + b1 * x1)\n",
    "denom <- 1 + exp(b0 + b1 * x1)\n",
    "p1 = num/denom\n",
    "p1"
   ]
  },
  {
   "cell_type": "code",
   "execution_count": 18,
   "id": "91c5d262-7e94-4def-bfa2-39060c7671c4",
   "metadata": {},
   "outputs": [],
   "source": [
    "# ロジスティック回帰のモデル.fitでやるver\n",
    "psmodel <- glm(t1 ~ x1, family = binomial(link=\"logit\"))\n",
    "ps3 <- round(psmodel$fitted.values, 4) # 小数点以下第4位までにまるめる\n",
    "# ps4: 傾向スコアの真値を入力\n",
    "ps4 <- c(rep(0.8, 5), rep(0.6, 5), rep(0.4, 5), rep(0.2, 5)) # c(): combine 引数に渡したオブジェクトをベクトルかリストの形式で結合してくれる, rep(): replicate, rep(val,n) n個数valを生成"
   ]
  },
  {
   "cell_type": "code",
   "execution_count": 20,
   "id": "639a0ea6-4859-4095-9e38-af5493cf389f",
   "metadata": {},
   "outputs": [
    {
     "data": {
      "text/html": [
       "<table class=\"dataframe\">\n",
       "<caption>A data.frame: 20 × 6</caption>\n",
       "<thead>\n",
       "\t<tr><th></th><th scope=col>x1</th><th scope=col>y3</th><th scope=col>t1</th><th scope=col>ps3</th><th scope=col>round.ps5..4.</th><th scope=col>ps4</th></tr>\n",
       "\t<tr><th></th><th scope=col>&lt;int&gt;</th><th scope=col>&lt;int&gt;</th><th scope=col>&lt;int&gt;</th><th scope=col>&lt;dbl&gt;</th><th scope=col>&lt;dbl&gt;</th><th scope=col>&lt;dbl&gt;</th></tr>\n",
       "</thead>\n",
       "<tbody>\n",
       "\t<tr><th scope=row>1</th><td>70</td><td>74</td><td>1</td><td>0.7751</td><td>0.7751</td><td>0.8</td></tr>\n",
       "\t<tr><th scope=row>2</th><td>70</td><td>63</td><td>0</td><td>0.7751</td><td>0.7751</td><td>0.8</td></tr>\n",
       "\t<tr><th scope=row>3</th><td>70</td><td>73</td><td>1</td><td>0.7751</td><td>0.7751</td><td>0.8</td></tr>\n",
       "\t<tr><th scope=row>4</th><td>70</td><td>71</td><td>1</td><td>0.7751</td><td>0.7751</td><td>0.8</td></tr>\n",
       "\t<tr><th scope=row>5</th><td>70</td><td>74</td><td>1</td><td>0.7751</td><td>0.7751</td><td>0.8</td></tr>\n",
       "\t<tr><th scope=row>6</th><td>75</td><td>67</td><td>0</td><td>0.6499</td><td>0.6499</td><td>0.6</td></tr>\n",
       "\t<tr><th scope=row>7</th><td>75</td><td>77</td><td>1</td><td>0.6499</td><td>0.6499</td><td>0.6</td></tr>\n",
       "\t<tr><th scope=row>8</th><td>75</td><td>68</td><td>0</td><td>0.6499</td><td>0.6499</td><td>0.6</td></tr>\n",
       "\t<tr><th scope=row>9</th><td>75</td><td>77</td><td>1</td><td>0.6499</td><td>0.6499</td><td>0.6</td></tr>\n",
       "\t<tr><th scope=row>10</th><td>75</td><td>78</td><td>1</td><td>0.6499</td><td>0.6499</td><td>0.6</td></tr>\n",
       "\t<tr><th scope=row>11</th><td>85</td><td>88</td><td>1</td><td>0.3501</td><td>0.3501</td><td>0.4</td></tr>\n",
       "\t<tr><th scope=row>12</th><td>85</td><td>77</td><td>0</td><td>0.3501</td><td>0.3501</td><td>0.4</td></tr>\n",
       "\t<tr><th scope=row>13</th><td>85</td><td>76</td><td>0</td><td>0.3501</td><td>0.3501</td><td>0.4</td></tr>\n",
       "\t<tr><th scope=row>14</th><td>85</td><td>86</td><td>1</td><td>0.3501</td><td>0.3501</td><td>0.4</td></tr>\n",
       "\t<tr><th scope=row>15</th><td>85</td><td>78</td><td>0</td><td>0.3501</td><td>0.3501</td><td>0.4</td></tr>\n",
       "\t<tr><th scope=row>16</th><td>90</td><td>81</td><td>0</td><td>0.2249</td><td>0.2249</td><td>0.2</td></tr>\n",
       "\t<tr><th scope=row>17</th><td>90</td><td>91</td><td>1</td><td>0.2249</td><td>0.2249</td><td>0.2</td></tr>\n",
       "\t<tr><th scope=row>18</th><td>90</td><td>82</td><td>0</td><td>0.2249</td><td>0.2249</td><td>0.2</td></tr>\n",
       "\t<tr><th scope=row>19</th><td>90</td><td>82</td><td>0</td><td>0.2249</td><td>0.2249</td><td>0.2</td></tr>\n",
       "\t<tr><th scope=row>20</th><td>90</td><td>82</td><td>0</td><td>0.2249</td><td>0.2249</td><td>0.2</td></tr>\n",
       "</tbody>\n",
       "</table>\n"
      ],
      "text/latex": [
       "A data.frame: 20 × 6\n",
       "\\begin{tabular}{r|llllll}\n",
       "  & x1 & y3 & t1 & ps3 & round.ps5..4. & ps4\\\\\n",
       "  & <int> & <int> & <int> & <dbl> & <dbl> & <dbl>\\\\\n",
       "\\hline\n",
       "\t1 & 70 & 74 & 1 & 0.7751 & 0.7751 & 0.8\\\\\n",
       "\t2 & 70 & 63 & 0 & 0.7751 & 0.7751 & 0.8\\\\\n",
       "\t3 & 70 & 73 & 1 & 0.7751 & 0.7751 & 0.8\\\\\n",
       "\t4 & 70 & 71 & 1 & 0.7751 & 0.7751 & 0.8\\\\\n",
       "\t5 & 70 & 74 & 1 & 0.7751 & 0.7751 & 0.8\\\\\n",
       "\t6 & 75 & 67 & 0 & 0.6499 & 0.6499 & 0.6\\\\\n",
       "\t7 & 75 & 77 & 1 & 0.6499 & 0.6499 & 0.6\\\\\n",
       "\t8 & 75 & 68 & 0 & 0.6499 & 0.6499 & 0.6\\\\\n",
       "\t9 & 75 & 77 & 1 & 0.6499 & 0.6499 & 0.6\\\\\n",
       "\t10 & 75 & 78 & 1 & 0.6499 & 0.6499 & 0.6\\\\\n",
       "\t11 & 85 & 88 & 1 & 0.3501 & 0.3501 & 0.4\\\\\n",
       "\t12 & 85 & 77 & 0 & 0.3501 & 0.3501 & 0.4\\\\\n",
       "\t13 & 85 & 76 & 0 & 0.3501 & 0.3501 & 0.4\\\\\n",
       "\t14 & 85 & 86 & 1 & 0.3501 & 0.3501 & 0.4\\\\\n",
       "\t15 & 85 & 78 & 0 & 0.3501 & 0.3501 & 0.4\\\\\n",
       "\t16 & 90 & 81 & 0 & 0.2249 & 0.2249 & 0.2\\\\\n",
       "\t17 & 90 & 91 & 1 & 0.2249 & 0.2249 & 0.2\\\\\n",
       "\t18 & 90 & 82 & 0 & 0.2249 & 0.2249 & 0.2\\\\\n",
       "\t19 & 90 & 82 & 0 & 0.2249 & 0.2249 & 0.2\\\\\n",
       "\t20 & 90 & 82 & 0 & 0.2249 & 0.2249 & 0.2\\\\\n",
       "\\end{tabular}\n"
      ],
      "text/markdown": [
       "\n",
       "A data.frame: 20 × 6\n",
       "\n",
       "| <!--/--> | x1 &lt;int&gt; | y3 &lt;int&gt; | t1 &lt;int&gt; | ps3 &lt;dbl&gt; | round.ps5..4. &lt;dbl&gt; | ps4 &lt;dbl&gt; |\n",
       "|---|---|---|---|---|---|---|\n",
       "| 1 | 70 | 74 | 1 | 0.7751 | 0.7751 | 0.8 |\n",
       "| 2 | 70 | 63 | 0 | 0.7751 | 0.7751 | 0.8 |\n",
       "| 3 | 70 | 73 | 1 | 0.7751 | 0.7751 | 0.8 |\n",
       "| 4 | 70 | 71 | 1 | 0.7751 | 0.7751 | 0.8 |\n",
       "| 5 | 70 | 74 | 1 | 0.7751 | 0.7751 | 0.8 |\n",
       "| 6 | 75 | 67 | 0 | 0.6499 | 0.6499 | 0.6 |\n",
       "| 7 | 75 | 77 | 1 | 0.6499 | 0.6499 | 0.6 |\n",
       "| 8 | 75 | 68 | 0 | 0.6499 | 0.6499 | 0.6 |\n",
       "| 9 | 75 | 77 | 1 | 0.6499 | 0.6499 | 0.6 |\n",
       "| 10 | 75 | 78 | 1 | 0.6499 | 0.6499 | 0.6 |\n",
       "| 11 | 85 | 88 | 1 | 0.3501 | 0.3501 | 0.4 |\n",
       "| 12 | 85 | 77 | 0 | 0.3501 | 0.3501 | 0.4 |\n",
       "| 13 | 85 | 76 | 0 | 0.3501 | 0.3501 | 0.4 |\n",
       "| 14 | 85 | 86 | 1 | 0.3501 | 0.3501 | 0.4 |\n",
       "| 15 | 85 | 78 | 0 | 0.3501 | 0.3501 | 0.4 |\n",
       "| 16 | 90 | 81 | 0 | 0.2249 | 0.2249 | 0.2 |\n",
       "| 17 | 90 | 91 | 1 | 0.2249 | 0.2249 | 0.2 |\n",
       "| 18 | 90 | 82 | 0 | 0.2249 | 0.2249 | 0.2 |\n",
       "| 19 | 90 | 82 | 0 | 0.2249 | 0.2249 | 0.2 |\n",
       "| 20 | 90 | 82 | 0 | 0.2249 | 0.2249 | 0.2 |\n",
       "\n"
      ],
      "text/plain": [
       "   x1 y3 t1 ps3    round.ps5..4. ps4\n",
       "1  70 74 1  0.7751 0.7751        0.8\n",
       "2  70 63 0  0.7751 0.7751        0.8\n",
       "3  70 73 1  0.7751 0.7751        0.8\n",
       "4  70 71 1  0.7751 0.7751        0.8\n",
       "5  70 74 1  0.7751 0.7751        0.8\n",
       "6  75 67 0  0.6499 0.6499        0.6\n",
       "7  75 77 1  0.6499 0.6499        0.6\n",
       "8  75 68 0  0.6499 0.6499        0.6\n",
       "9  75 77 1  0.6499 0.6499        0.6\n",
       "10 75 78 1  0.6499 0.6499        0.6\n",
       "11 85 88 1  0.3501 0.3501        0.4\n",
       "12 85 77 0  0.3501 0.3501        0.4\n",
       "13 85 76 0  0.3501 0.3501        0.4\n",
       "14 85 86 1  0.3501 0.3501        0.4\n",
       "15 85 78 0  0.3501 0.3501        0.4\n",
       "16 90 81 0  0.2249 0.2249        0.2\n",
       "17 90 91 1  0.2249 0.2249        0.2\n",
       "18 90 82 0  0.2249 0.2249        0.2\n",
       "19 90 82 0  0.2249 0.2249        0.2\n",
       "20 90 82 0  0.2249 0.2249        0.2"
      ]
     },
     "metadata": {},
     "output_type": "display_data"
    }
   ],
   "source": [
    "# 入力xと結果y, 割り当て, 傾向スコアの推定値と真値をくっつけたデータフレームを作成\n",
    "df2 <- data.frame(x1, y3, t1, ps3, round(ps5, 4), ps4)\n",
    "df2"
   ]
  },
  {
   "cell_type": "code",
   "execution_count": 21,
   "id": "f10d2f79-5df2-429f-a3c8-11d353739bc0",
   "metadata": {},
   "outputs": [
    {
     "data": {
      "text/plain": [
       "   Min. 1st Qu.  Median    Mean 3rd Qu.    Max. \n",
       " 0.2249  0.3188  0.5000  0.5000  0.6812  0.7751 "
      ]
     },
     "metadata": {},
     "output_type": "display_data"
    },
    {
     "data": {
      "text/plain": [
       "   Min. 1st Qu.  Median    Mean 3rd Qu.    Max. \n",
       " 0.2249  0.3188  0.5000  0.5000  0.6812  0.7751 "
      ]
     },
     "metadata": {},
     "output_type": "display_data"
    },
    {
     "data": {
      "text/html": [
       "0.999999999535239"
      ],
      "text/latex": [
       "0.999999999535239"
      ],
      "text/markdown": [
       "0.999999999535239"
      ],
      "text/plain": [
       "[1] 1"
      ]
     },
     "metadata": {},
     "output_type": "display_data"
    }
   ],
   "source": [
    "summary(ps3)\n",
    "summary(ps5)\n",
    "cor(ps3, ps5)"
   ]
  },
  {
   "cell_type": "code",
   "execution_count": null,
   "id": "8fa530bd-4016-4aa9-b6b3-c619572958a9",
   "metadata": {},
   "outputs": [],
   "source": []
  }
 ],
 "metadata": {
  "kernelspec": {
   "display_name": "R",
   "language": "R",
   "name": "ir"
  },
  "language_info": {
   "codemirror_mode": "r",
   "file_extension": ".r",
   "mimetype": "text/x-r-source",
   "name": "R",
   "pygments_lexer": "r",
   "version": "4.0.4"
  }
 },
 "nbformat": 4,
 "nbformat_minor": 5
}
