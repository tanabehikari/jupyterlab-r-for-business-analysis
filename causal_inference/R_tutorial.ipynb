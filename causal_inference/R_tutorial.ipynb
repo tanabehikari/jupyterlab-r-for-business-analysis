{
 "cells": [
  {
   "cell_type": "code",
   "execution_count": 13,
   "id": "f11a21d0-a8b2-44f1-925c-5ebacb093db0",
   "metadata": {},
   "outputs": [
    {
     "data": {
      "text/html": [
       "<table class=\"dataframe\">\n",
       "<caption>A data.frame: 5 × 2</caption>\n",
       "<thead>\n",
       "\t<tr><th scope=col>x1</th><th scope=col>y1</th></tr>\n",
       "\t<tr><th scope=col>&lt;int&gt;</th><th scope=col>&lt;int&gt;</th></tr>\n",
       "</thead>\n",
       "<tbody>\n",
       "\t<tr><td>63</td><td>63</td></tr>\n",
       "\t<tr><td>56</td><td>66</td></tr>\n",
       "\t<tr><td>51</td><td>61</td></tr>\n",
       "\t<tr><td>50</td><td>60</td></tr>\n",
       "\t<tr><td>42</td><td>52</td></tr>\n",
       "</tbody>\n",
       "</table>\n"
      ],
      "text/latex": [
       "A data.frame: 5 × 2\n",
       "\\begin{tabular}{ll}\n",
       " x1 & y1\\\\\n",
       " <int> & <int>\\\\\n",
       "\\hline\n",
       "\t 63 & 63\\\\\n",
       "\t 56 & 66\\\\\n",
       "\t 51 & 61\\\\\n",
       "\t 50 & 60\\\\\n",
       "\t 42 & 52\\\\\n",
       "\\end{tabular}\n"
      ],
      "text/markdown": [
       "\n",
       "A data.frame: 5 × 2\n",
       "\n",
       "| x1 &lt;int&gt; | y1 &lt;int&gt; |\n",
       "|---|---|\n",
       "| 63 | 63 |\n",
       "| 56 | 66 |\n",
       "| 51 | 61 |\n",
       "| 50 | 60 |\n",
       "| 42 | 52 |\n",
       "\n"
      ],
      "text/plain": [
       "  x1 y1\n",
       "1 63 63\n",
       "2 56 66\n",
       "3 51 61\n",
       "4 50 60\n",
       "5 42 52"
      ]
     },
     "metadata": {},
     "output_type": "display_data"
    },
    {
     "data": {
      "text/html": [
       "<table class=\"dataframe\">\n",
       "<caption>A data.frame: 5 × 2</caption>\n",
       "<thead>\n",
       "\t<tr><th></th><th scope=col>x1</th><th scope=col>y1</th></tr>\n",
       "\t<tr><th></th><th scope=col>&lt;int&gt;</th><th scope=col>&lt;int&gt;</th></tr>\n",
       "</thead>\n",
       "<tbody>\n",
       "\t<tr><th scope=row>1</th><td>63</td><td>63</td></tr>\n",
       "\t<tr><th scope=row>2</th><td>56</td><td>66</td></tr>\n",
       "\t<tr><th scope=row>3</th><td>51</td><td>61</td></tr>\n",
       "\t<tr><th scope=row>4</th><td>50</td><td>60</td></tr>\n",
       "\t<tr><th scope=row>5</th><td>42</td><td>52</td></tr>\n",
       "</tbody>\n",
       "</table>\n"
      ],
      "text/latex": [
       "A data.frame: 5 × 2\n",
       "\\begin{tabular}{r|ll}\n",
       "  & x1 & y1\\\\\n",
       "  & <int> & <int>\\\\\n",
       "\\hline\n",
       "\t1 & 63 & 63\\\\\n",
       "\t2 & 56 & 66\\\\\n",
       "\t3 & 51 & 61\\\\\n",
       "\t4 & 50 & 60\\\\\n",
       "\t5 & 42 & 52\\\\\n",
       "\\end{tabular}\n"
      ],
      "text/markdown": [
       "\n",
       "A data.frame: 5 × 2\n",
       "\n",
       "| <!--/--> | x1 &lt;int&gt; | y1 &lt;int&gt; |\n",
       "|---|---|---|\n",
       "| 1 | 63 | 63 |\n",
       "| 2 | 56 | 66 |\n",
       "| 3 | 51 | 61 |\n",
       "| 4 | 50 | 60 |\n",
       "| 5 | 42 | 52 |\n",
       "\n"
      ],
      "text/plain": [
       "  x1 y1\n",
       "1 63 63\n",
       "2 56 66\n",
       "3 51 61\n",
       "4 50 60\n",
       "5 42 52"
      ]
     },
     "metadata": {},
     "output_type": "display_data"
    },
    {
     "data": {
      "text/plain": [
       "       x1             y1      \n",
       " Min.   :42.0   Min.   :52.0  \n",
       " 1st Qu.:50.0   1st Qu.:60.0  \n",
       " Median :51.0   Median :61.0  \n",
       " Mean   :52.4   Mean   :60.4  \n",
       " 3rd Qu.:56.0   3rd Qu.:63.0  \n",
       " Max.   :63.0   Max.   :66.0  "
      ]
     },
     "metadata": {},
     "output_type": "display_data"
    }
   ],
   "source": [
    "# read data\n",
    "rm(list = ls()) #ワークスメモリをクリア\n",
    "data01 <- read.csv('./exc_data//data01.csv') # csv読み込み\n",
    "data01 #　行x列サイズも表示される\n",
    "head(data01)\n",
    "summary(data01)"
   ]
  },
  {
   "cell_type": "code",
   "execution_count": 14,
   "id": "73c8d047-98e0-4714-a69c-829c3abd8910",
   "metadata": {},
   "outputs": [
    {
     "data": {
      "text/html": [
       "<table class=\"dataframe\">\n",
       "<caption>A data.frame: 4 × 2</caption>\n",
       "<thead>\n",
       "\t<tr><th scope=col>x1</th><th scope=col>y1</th></tr>\n",
       "\t<tr><th scope=col>&lt;dbl&gt;</th><th scope=col>&lt;dbl&gt;</th></tr>\n",
       "</thead>\n",
       "<tbody>\n",
       "\t<tr><td>63</td><td>56</td></tr>\n",
       "\t<tr><td>56</td><td>51</td></tr>\n",
       "\t<tr><td>51</td><td>50</td></tr>\n",
       "\t<tr><td>50</td><td>63</td></tr>\n",
       "</tbody>\n",
       "</table>\n"
      ],
      "text/latex": [
       "A data.frame: 4 × 2\n",
       "\\begin{tabular}{ll}\n",
       " x1 & y1\\\\\n",
       " <dbl> & <dbl>\\\\\n",
       "\\hline\n",
       "\t 63 & 56\\\\\n",
       "\t 56 & 51\\\\\n",
       "\t 51 & 50\\\\\n",
       "\t 50 & 63\\\\\n",
       "\\end{tabular}\n"
      ],
      "text/markdown": [
       "\n",
       "A data.frame: 4 × 2\n",
       "\n",
       "| x1 &lt;dbl&gt; | y1 &lt;dbl&gt; |\n",
       "|---|---|\n",
       "| 63 | 56 |\n",
       "| 56 | 51 |\n",
       "| 51 | 50 |\n",
       "| 50 | 63 |\n",
       "\n"
      ],
      "text/plain": [
       "  x1 y1\n",
       "1 63 56\n",
       "2 56 51\n",
       "3 51 50\n",
       "4 50 63"
      ]
     },
     "metadata": {},
     "output_type": "display_data"
    }
   ],
   "source": [
    "# 手打ちでやりたいときはこれ\n",
    "x1 <- c(63, 56, 51, 50)\n",
    "y1 <- c(56, 51, 50, 63)\n",
    "df1 <- data.frame(x1, y1)\n",
    "df1"
   ]
  },
  {
   "cell_type": "code",
   "execution_count": 19,
   "id": "4df321de-7745-4857-ba2a-4693c9786b9b",
   "metadata": {},
   "outputs": [
    {
     "data": {
      "text/html": [
       "<table class=\"dataframe\">\n",
       "<caption>A data.frame: 1 × 2</caption>\n",
       "<thead>\n",
       "\t<tr><th></th><th scope=col>x1</th><th scope=col>y1</th></tr>\n",
       "\t<tr><th></th><th scope=col>&lt;int&gt;</th><th scope=col>&lt;int&gt;</th></tr>\n",
       "</thead>\n",
       "<tbody>\n",
       "\t<tr><th scope=row>3</th><td>51</td><td>61</td></tr>\n",
       "</tbody>\n",
       "</table>\n"
      ],
      "text/latex": [
       "A data.frame: 1 × 2\n",
       "\\begin{tabular}{r|ll}\n",
       "  & x1 & y1\\\\\n",
       "  & <int> & <int>\\\\\n",
       "\\hline\n",
       "\t3 & 51 & 61\\\\\n",
       "\\end{tabular}\n"
      ],
      "text/markdown": [
       "\n",
       "A data.frame: 1 × 2\n",
       "\n",
       "| <!--/--> | x1 &lt;int&gt; | y1 &lt;int&gt; |\n",
       "|---|---|---|\n",
       "| 3 | 51 | 61 |\n",
       "\n"
      ],
      "text/plain": [
       "  x1 y1\n",
       "3 51 61"
      ]
     },
     "metadata": {},
     "output_type": "display_data"
    },
    {
     "data": {
      "text/html": [
       "<style>\n",
       ".list-inline {list-style: none; margin:0; padding: 0}\n",
       ".list-inline>li {display: inline-block}\n",
       ".list-inline>li:not(:last-child)::after {content: \"\\00b7\"; padding: 0 .5ex}\n",
       "</style>\n",
       "<ol class=list-inline><li>63</li><li>66</li><li>61</li><li>60</li><li>52</li></ol>\n"
      ],
      "text/latex": [
       "\\begin{enumerate*}\n",
       "\\item 63\n",
       "\\item 66\n",
       "\\item 61\n",
       "\\item 60\n",
       "\\item 52\n",
       "\\end{enumerate*}\n"
      ],
      "text/markdown": [
       "1. 63\n",
       "2. 66\n",
       "3. 61\n",
       "4. 60\n",
       "5. 52\n",
       "\n",
       "\n"
      ],
      "text/plain": [
       "[1] 63 66 61 60 52"
      ]
     },
     "metadata": {},
     "output_type": "display_data"
    },
    {
     "data": {
      "text/html": [
       "61"
      ],
      "text/latex": [
       "61"
      ],
      "text/markdown": [
       "61"
      ],
      "text/plain": [
       "[1] 61"
      ]
     },
     "metadata": {},
     "output_type": "display_data"
    }
   ],
   "source": [
    "data01[3, ] # 1x2\n",
    "data01[ , 2] # 5x1が[要素5個]のリスト的に出てくる\n",
    "data01[3, 2]"
   ]
  },
  {
   "cell_type": "code",
   "execution_count": 21,
   "id": "5ce03ef2-62e0-4a52-a2e4-aeefb04589fa",
   "metadata": {},
   "outputs": [
    {
     "data": {
      "text/html": [
       "52.4"
      ],
      "text/latex": [
       "52.4"
      ],
      "text/markdown": [
       "52.4"
      ],
      "text/plain": [
       "[1] 52.4"
      ]
     },
     "metadata": {},
     "output_type": "display_data"
    },
    {
     "data": {
      "text/html": [
       "60.4"
      ],
      "text/latex": [
       "60.4"
      ],
      "text/markdown": [
       "60.4"
      ],
      "text/plain": [
       "[1] 60.4"
      ]
     },
     "metadata": {},
     "output_type": "display_data"
    }
   ],
   "source": [
    "mean(data01$x1) # ${変数名}で統計量をみる対象の変数を指定\n",
    "mean(data01$y1)"
   ]
  },
  {
   "cell_type": "code",
   "execution_count": 28,
   "id": "5929d7fd-3436-415d-b5bb-951919847278",
   "metadata": {},
   "outputs": [
    {
     "data": {
      "text/html": [
       "<table class=\"dataframe\">\n",
       "<caption>A matrix: 2 × 2 of type lgl</caption>\n",
       "<tbody>\n",
       "\t<tr><td>NA</td><td>NA</td></tr>\n",
       "\t<tr><td>NA</td><td>NA</td></tr>\n",
       "</tbody>\n",
       "</table>\n"
      ],
      "text/latex": [
       "A matrix: 2 × 2 of type lgl\n",
       "\\begin{tabular}{ll}\n",
       "\t NA & NA\\\\\n",
       "\t NA & NA\\\\\n",
       "\\end{tabular}\n"
      ],
      "text/markdown": [
       "\n",
       "A matrix: 2 × 2 of type lgl\n",
       "\n",
       "| NA | NA |\n",
       "| NA | NA |\n",
       "\n"
      ],
      "text/plain": [
       "     [,1] [,2]\n",
       "[1,] NA   NA  \n",
       "[2,] NA   NA  "
      ]
     },
     "metadata": {},
     "output_type": "display_data"
    },
    {
     "data": {
      "text/html": [
       "<table class=\"dataframe\">\n",
       "<caption>A matrix: 3 × 2 of type int</caption>\n",
       "<tbody>\n",
       "\t<tr><td>1</td><td>4</td></tr>\n",
       "\t<tr><td>2</td><td>5</td></tr>\n",
       "\t<tr><td>3</td><td>6</td></tr>\n",
       "</tbody>\n",
       "</table>\n"
      ],
      "text/latex": [
       "A matrix: 3 × 2 of type int\n",
       "\\begin{tabular}{ll}\n",
       "\t 1 & 4\\\\\n",
       "\t 2 & 5\\\\\n",
       "\t 3 & 6\\\\\n",
       "\\end{tabular}\n"
      ],
      "text/markdown": [
       "\n",
       "A matrix: 3 × 2 of type int\n",
       "\n",
       "| 1 | 4 |\n",
       "| 2 | 5 |\n",
       "| 3 | 6 |\n",
       "\n"
      ],
      "text/plain": [
       "     [,1] [,2]\n",
       "[1,] 1    4   \n",
       "[2,] 2    5   \n",
       "[3,] 3    6   "
      ]
     },
     "metadata": {},
     "output_type": "display_data"
    },
    {
     "data": {
      "text/html": [
       "<table class=\"dataframe\">\n",
       "<caption>A matrix: 2 × 2 of type dbl</caption>\n",
       "<tbody>\n",
       "\t<tr><td>52.4</td><td>7.765307</td></tr>\n",
       "\t<tr><td>60.4</td><td>5.224940</td></tr>\n",
       "</tbody>\n",
       "</table>\n"
      ],
      "text/latex": [
       "A matrix: 2 × 2 of type dbl\n",
       "\\begin{tabular}{ll}\n",
       "\t 52.4 & 7.765307\\\\\n",
       "\t 60.4 & 5.224940\\\\\n",
       "\\end{tabular}\n"
      ],
      "text/markdown": [
       "\n",
       "A matrix: 2 × 2 of type dbl\n",
       "\n",
       "| 52.4 | 7.765307 |\n",
       "| 60.4 | 5.224940 |\n",
       "\n"
      ],
      "text/plain": [
       "     [,1] [,2]    \n",
       "[1,] 52.4 7.765307\n",
       "[2,] 60.4 5.224940"
      ]
     },
     "metadata": {},
     "output_type": "display_data"
    },
    {
     "data": {
      "text/html": [
       "<style>\n",
       ".dl-inline {width: auto; margin:0; padding: 0}\n",
       ".dl-inline>dt, .dl-inline>dd {float: none; width: auto; display: inline-block}\n",
       ".dl-inline>dt::after {content: \":\\0020\"; padding-right: .5ex}\n",
       ".dl-inline>dt:not(:first-of-type) {padding-left: .5ex}\n",
       "</style><dl class=dl-inline><dt>x1</dt><dd>52.4</dd><dt>y1</dt><dd>60.4</dd></dl>\n"
      ],
      "text/latex": [
       "\\begin{description*}\n",
       "\\item[x1] 52.4\n",
       "\\item[y1] 60.4\n",
       "\\end{description*}\n"
      ],
      "text/markdown": [
       "x1\n",
       ":   52.4y1\n",
       ":   60.4\n",
       "\n"
      ],
      "text/plain": [
       "  x1   y1 \n",
       "52.4 60.4 "
      ]
     },
     "metadata": {},
     "output_type": "display_data"
    },
    {
     "data": {
      "text/html": [
       "<style>\n",
       ".dl-inline {width: auto; margin:0; padding: 0}\n",
       ".dl-inline>dt, .dl-inline>dd {float: none; width: auto; display: inline-block}\n",
       ".dl-inline>dt::after {content: \":\\0020\"; padding-right: .5ex}\n",
       ".dl-inline>dt:not(:first-of-type) {padding-left: .5ex}\n",
       "</style><dl class=dl-inline><dt>x1</dt><dd>7.76530746332687</dd><dt>y1</dt><dd>5.22494019104525</dd></dl>\n"
      ],
      "text/latex": [
       "\\begin{description*}\n",
       "\\item[x1] 7.76530746332687\n",
       "\\item[y1] 5.22494019104525\n",
       "\\end{description*}\n"
      ],
      "text/markdown": [
       "x1\n",
       ":   7.76530746332687y1\n",
       ":   5.22494019104525\n",
       "\n"
      ],
      "text/plain": [
       "      x1       y1 \n",
       "7.765307 5.224940 "
      ]
     },
     "metadata": {},
     "output_type": "display_data"
    }
   ],
   "source": [
    "# forループ練習\n",
    "output <- matrix(NA, 2, 2) # matrix(data, nrow, ncol, [options]))\n",
    "tmp <- matrix(1:6, 3)\n",
    "output\n",
    "tmp\n",
    "\n",
    "# forでmean, sdだす\n",
    "for (j in 1:2){\n",
    "    output[j, 1] <- mean(data01[, j]) # 列ごとの平均値\n",
    "    output[j, 2] <- sd(data01[, j]) #列ごとの標準偏差\n",
    "}\n",
    "output            \n",
    "\n",
    "# 上はこれと同じ\n",
    "apply(data01, 2, mean)\n",
    "apply(data01, 2, sd)"
   ]
  },
  {
   "cell_type": "code",
   "execution_count": null,
   "id": "b803c75e-418f-4611-946b-87b5f1abdf89",
   "metadata": {},
   "outputs": [],
   "source": []
  }
 ],
 "metadata": {
  "kernelspec": {
   "display_name": "R",
   "language": "R",
   "name": "ir"
  },
  "language_info": {
   "codemirror_mode": "r",
   "file_extension": ".r",
   "mimetype": "text/x-r-source",
   "name": "R",
   "pygments_lexer": "r",
   "version": "4.0.4"
  }
 },
 "nbformat": 4,
 "nbformat_minor": 5
}
